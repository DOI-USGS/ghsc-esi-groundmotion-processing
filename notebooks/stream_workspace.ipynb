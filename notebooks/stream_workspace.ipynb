{
 "cells": [
  {
   "cell_type": "code",
   "execution_count": 1,
   "metadata": {},
   "outputs": [],
   "source": [
    "%matplotlib inline"
   ]
  },
  {
   "cell_type": "code",
   "execution_count": 2,
   "metadata": {},
   "outputs": [],
   "source": [
    "# stdlib imports\n",
    "import os.path\n",
    "\n",
    "# gmprocess imports\n",
    "from gmprocess.io.asdf.stream_workspace import StreamWorkspace\n",
    "from gmprocess.io.test_utils import read_data_dir\n",
    "from gmprocess.io.read import read_data\n",
    "from gmprocess.streamcollection import StreamCollection\n",
    "from gmprocess.processing import process_streams\n",
    "from gmprocess.event import get_event_object"
   ]
  },
  {
   "cell_type": "markdown",
   "metadata": {},
   "source": [
    "Methods of finding and reading strong motion data will vary, the function below automates to a certain extent\n",
    "the selection of test data from the repository. Since each data directory contains an \"event.json\" file, this function also returns an event dictionary, required for the processing method."
   ]
  },
  {
   "cell_type": "code",
   "execution_count": 3,
   "metadata": {},
   "outputs": [],
   "source": [
    "datafiles, origin = read_data_dir('knet', 'us2000cnnl')"
   ]
  },
  {
   "cell_type": "markdown",
   "metadata": {},
   "source": [
    "The read_data below finds the appropriate data reader for the format supplied."
   ]
  },
  {
   "cell_type": "code",
   "execution_count": 4,
   "metadata": {},
   "outputs": [],
   "source": [
    "tstreams = []\n",
    "for dfile in datafiles:\n",
    "    tstreams += read_data(dfile)"
   ]
  },
  {
   "cell_type": "code",
   "execution_count": 5,
   "metadata": {},
   "outputs": [
    {
     "data": {
      "text/plain": [
       "27"
      ]
     },
     "execution_count": 5,
     "metadata": {},
     "output_type": "execute_result"
    }
   ],
   "source": [
    "len(tstreams)"
   ]
  },
  {
   "cell_type": "markdown",
   "metadata": {},
   "source": [
    "Create a StreamCollection from the list of KNET streams. This class organizes the data into (nominally) 3-channel Streams (one per station), and does some other validation as well. This object is the required input for the process_streams method."
   ]
  },
  {
   "cell_type": "code",
   "execution_count": 6,
   "metadata": {},
   "outputs": [
    {
     "name": "stdout",
     "output_type": "stream",
     "text": [
      "9\n"
     ]
    }
   ],
   "source": [
    "instreams = StreamCollection(tstreams)\n",
    "outstreams = process_streams(instreams, origin)\n",
    "print(len(outstreams))"
   ]
  },
  {
   "cell_type": "markdown",
   "metadata": {},
   "source": [
    "Now let's create a workspace (ASDF file) to store these streams and then some associated metadata."
   ]
  },
  {
   "cell_type": "code",
   "execution_count": 8,
   "metadata": {},
   "outputs": [],
   "source": [
    "outfile = os.path.join(os.path.expanduser('~'), 'knet_test.hdf')\n",
    "if os.path.isfile(outfile):\n",
    "    os.remove(outfile)\n",
    "workspace = StreamWorkspace(outfile)\n",
    "# create an Obspy event object from our dictionary\n",
    "event = get_event_object(origin)\n",
    "\n",
    "# add the \"raw\" (KNET actually pre-converts to gals) data\n",
    "workspace.addStreams(event, instreams, label='rawknet')\n",
    "eventid = origin['id']\n",
    "\n",
    "workspace.addStreams(event, outstreams, label='processed')\n",
    "processed_tags = workspace.getStreamTags(eventid, label='processed')"
   ]
  },
  {
   "cell_type": "code",
   "execution_count": 9,
   "metadata": {},
   "outputs": [
    {
     "data": {
      "text/plain": [
       "['aom001_rawknet',\n",
       " 'aom002_rawknet',\n",
       " 'aom003_rawknet',\n",
       " 'aom004_rawknet',\n",
       " 'aom005_rawknet',\n",
       " 'aom006_rawknet',\n",
       " 'aom007_rawknet',\n",
       " 'aom008_rawknet',\n",
       " 'aom009_rawknet']"
      ]
     },
     "execution_count": 9,
     "metadata": {},
     "output_type": "execute_result"
    }
   ],
   "source": [
    "raw_tags"
   ]
  },
  {
   "cell_type": "code",
   "execution_count": 10,
   "metadata": {},
   "outputs": [
    {
     "data": {
      "text/plain": [
       "['aom001_processed',\n",
       " 'aom002_processed',\n",
       " 'aom003_processed',\n",
       " 'aom004_processed',\n",
       " 'aom005_processed',\n",
       " 'aom006_processed',\n",
       " 'aom007_processed',\n",
       " 'aom008_processed',\n",
       " 'aom009_processed']"
      ]
     },
     "execution_count": 10,
     "metadata": {},
     "output_type": "execute_result"
    }
   ],
   "source": [
    "processed_tags"
   ]
  },
  {
   "cell_type": "code",
   "execution_count": null,
   "metadata": {},
   "outputs": [],
   "source": []
  }
 ],
 "metadata": {
  "kernelspec": {
   "display_name": "Python 3",
   "language": "python",
   "name": "python3"
  },
  "language_info": {
   "codemirror_mode": {
    "name": "ipython",
    "version": 3
   },
   "file_extension": ".py",
   "mimetype": "text/x-python",
   "name": "python",
   "nbconvert_exporter": "python",
   "pygments_lexer": "ipython3",
   "version": "3.7.1"
  }
 },
 "nbformat": 4,
 "nbformat_minor": 2
}
