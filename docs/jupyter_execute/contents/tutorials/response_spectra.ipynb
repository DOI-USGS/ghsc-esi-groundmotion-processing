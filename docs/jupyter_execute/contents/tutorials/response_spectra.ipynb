{
 "cells": [
  {
   "cell_type": "markdown",
   "id": "9b475925",
   "metadata": {},
   "source": [
    "# Response Spectra Calculation and Comparison\n",
    "\n",
    "In this tutorial we will read in an example record, compute the response\n",
    "spectra, and compare it to a ground motion prediction equation.\n",
    "\n",
    "\n",
    "There are a lot of imports to take care of first"
   ]
  },
  {
   "cell_type": "code",
   "execution_count": 1,
   "id": "236547a6",
   "metadata": {},
   "outputs": [],
   "source": [
    "import os\n",
    "import pkg_resources\n",
    "\n",
    "import matplotlib.pyplot as plt\n",
    "from matplotlib import _cm as cm\n",
    "import numpy as np\n",
    "\n",
    "# OpenQuake imports for GMPEs\n",
    "from openquake.hazardlib.gsim import base\n",
    "import openquake.hazardlib.imt as imt\n",
    "from openquake.hazardlib.const import StdDev\n",
    "from openquake.hazardlib.gsim.boore_2014 import BooreEtAl2014\n",
    "\n",
    "from gmprocess.core.streamcollection import StreamCollection\n",
    "from gmprocess.utils.config import get_config\n",
    "from gmprocess.waveform_processing.processing import process_streams\n",
    "from gmprocess.utils.event import get_event_object\n",
    "from gmprocess.metrics.station_summary import StationSummary"
   ]
  },
  {
   "cell_type": "markdown",
   "id": "5f044435",
   "metadata": {},
   "source": [
    "Now we will read in some records from we keep in the repository for testing\n",
    "purposes, get the config file that controls many of the processing steps,\n",
    "and the event object for this earthquake"
   ]
  },
  {
   "cell_type": "code",
   "execution_count": 2,
   "id": "ec400d0a",
   "metadata": {
    "tags": [
     "remove-stderr"
    ]
   },
   "outputs": [
    {
     "name": "stderr",
     "output_type": "stream",
     "text": [
      "WARNING:root:Setting elevation to 0.0\n"
     ]
    },
    {
     "name": "stderr",
     "output_type": "stream",
     "text": [
      "WARNING:root:Setting elevation to 0.0\n"
     ]
    },
    {
     "name": "stderr",
     "output_type": "stream",
     "text": [
      "WARNING:root:Setting elevation to 0.0\n"
     ]
    },
    {
     "name": "stderr",
     "output_type": "stream",
     "text": [
      "WARNING:root:Setting elevation to 0.0\n"
     ]
    },
    {
     "name": "stderr",
     "output_type": "stream",
     "text": [
      "WARNING:root:Setting elevation to 0.0\n"
     ]
    },
    {
     "name": "stderr",
     "output_type": "stream",
     "text": [
      "WARNING:root:Setting elevation to 0.0\n"
     ]
    },
    {
     "name": "stderr",
     "output_type": "stream",
     "text": [
      "WARNING:root:Setting elevation to 0.0\n"
     ]
    },
    {
     "name": "stderr",
     "output_type": "stream",
     "text": [
      "WARNING:root:Setting elevation to 0.0\n"
     ]
    },
    {
     "name": "stderr",
     "output_type": "stream",
     "text": [
      "WARNING:root:Setting elevation to 0.0\n"
     ]
    },
    {
     "name": "stdout",
     "output_type": "stream",
     "text": [
      "3 StationStreams(s) in StreamCollection:\n",
      "  3 StationTrace(s) in StationStream (passed):\n",
      "    CI.CLC.--.HN2 | 2019-07-06T03:16:08.000000Z - 2019-07-06T03:21:27.310000Z | 100.0 Hz, 31932 samples (passed)\n",
      "    CI.CLC.--.HN1 | 2019-07-06T03:16:08.000000Z - 2019-07-06T03:21:27.310000Z | 100.0 Hz, 31932 samples (passed)\n",
      "    CI.CLC.--.HNZ | 2019-07-06T03:16:08.000000Z - 2019-07-06T03:21:27.310000Z | 100.0 Hz, 31932 samples (passed)\n",
      "  3 StationTrace(s) in StationStream (passed):\n",
      "    CI.TOW2.--.HN2 | 2019-07-06T03:19:31.000000Z - 2019-07-06T03:25:26.390000Z | 100.0 Hz, 35540 samples (passed)\n",
      "    CI.TOW2.--.HN1 | 2019-07-06T03:19:31.000000Z - 2019-07-06T03:25:26.390000Z | 100.0 Hz, 35540 samples (passed)\n",
      "    CI.TOW2.--.HNZ | 2019-07-06T03:19:31.000000Z - 2019-07-06T03:25:26.390000Z | 100.0 Hz, 35540 samples (passed)\n",
      "  3 StationTrace(s) in StationStream (passed):\n",
      "    CI.CCC.--.HN2 | 2019-07-06T03:19:37.000000Z - 2019-07-06T03:25:31.010000Z | 100.0 Hz, 35402 samples (passed)\n",
      "    CI.CCC.--.HN1 | 2019-07-06T03:19:37.000000Z - 2019-07-06T03:25:31.010000Z | 100.0 Hz, 35402 samples (passed)\n",
      "    CI.CCC.--.HNZ | 2019-07-06T03:19:37.000000Z - 2019-07-06T03:25:31.010000Z | 100.0 Hz, 35402 samples (passed)\n",
      "\n"
     ]
    }
   ],
   "source": [
    "# Path to example data\n",
    "datapath = os.path.join('data', 'testdata', 'demo', 'ci38457511', 'raw')\n",
    "datadir = pkg_resources.resource_filename('gmprocess', datapath)\n",
    "sc = StreamCollection.from_directory(datadir)\n",
    "sc.describe()"
   ]
  },
  {
   "cell_type": "markdown",
   "id": "9703bec1",
   "metadata": {},
   "source": [
    "You can see from the output that this test dataset includes 3 StationStreams, \n",
    "each with 3 StationTraces. All of the streams are labeled as \"passed\"\n",
    "because we have not yet subjected them to the QA tests."
   ]
  },
  {
   "cell_type": "code",
   "execution_count": 3,
   "id": "66cca3fc",
   "metadata": {},
   "outputs": [
    {
     "name": "stdout",
     "output_type": "stream",
     "text": [
      "Event:\t2019-07-06T03:19:53.040000Z | +35.770, -117.599 | 7.1 mw\n",
      "\n",
      "\t resource_id: ResourceIdentifier(id=\"ci38457511\")\n",
      "\t        ---------\n",
      "\t     origins: 1 Elements\n",
      "\t  magnitudes: 1 Elements\n"
     ]
    }
   ],
   "source": [
    "# Get the default config file\n",
    "conf = get_config()\n",
    "\n",
    "# Get event object\n",
    "event = get_event_object('ci38457511')\n",
    "print(event)"
   ]
  },
  {
   "cell_type": "markdown",
   "id": "b01b3e27",
   "metadata": {},
   "source": [
    "The next step is to processing the streams and then compute a\n",
    "\"StationSummary\" instance, which holds the station and waveform\n",
    "metrics, including the response spectra"
   ]
  },
  {
   "cell_type": "code",
   "execution_count": 4,
   "id": "b2e87c3a",
   "metadata": {},
   "outputs": [
    {
     "name": "stdout",
     "output_type": "stream",
     "text": [
      "3 StationStreams(s) in StreamCollection:\n",
      "  3 StationTrace(s) in StationStream (failed):\n",
      "    CI.CLC.--.HN2 | 2019-07-06T03:19:52.680000Z - 2019-07-06T03:20:53.210000Z | 100.0 Hz, 6054 samples (passed)\n",
      "    CI.CLC.--.HN1 | 2019-07-06T03:19:52.680000Z - 2019-07-06T03:20:53.210000Z | 100.0 Hz, 6054 samples (passed)\n",
      "    CI.CLC.--.HNZ | 2019-07-06T03:19:52.680000Z - 2019-07-06T03:20:53.210000Z | 100.0 Hz, 6054 samples (failed)\n",
      "  3 StationTrace(s) in StationStream (passed):\n",
      "    CI.TOW2.--.HN2 | 2019-07-06T03:19:54.060000Z - 2019-07-06T03:21:06.850000Z | 100.0 Hz, 7280 samples (passed)\n",
      "    CI.TOW2.--.HN1 | 2019-07-06T03:19:54.060000Z - 2019-07-06T03:21:06.850000Z | 100.0 Hz, 7280 samples (passed)\n",
      "    CI.TOW2.--.HNZ | 2019-07-06T03:19:54.060000Z - 2019-07-06T03:21:06.850000Z | 100.0 Hz, 7280 samples (passed)\n",
      "  3 StationTrace(s) in StationStream (passed):\n",
      "    CI.CCC.--.HN2 | 2019-07-06T03:19:57.140000Z - 2019-07-06T03:21:29.800000Z | 100.0 Hz, 9267 samples (passed)\n",
      "    CI.CCC.--.HN1 | 2019-07-06T03:19:57.140000Z - 2019-07-06T03:21:29.800000Z | 100.0 Hz, 9267 samples (passed)\n",
      "    CI.CCC.--.HNZ | 2019-07-06T03:19:57.140000Z - 2019-07-06T03:21:29.800000Z | 100.0 Hz, 9267 samples (passed)\n",
      "\n"
     ]
    }
   ],
   "source": [
    "# Process the straems\n",
    "psc = process_streams(sc, event, conf)\n",
    "psc.describe()"
   ]
  },
  {
   "cell_type": "markdown",
   "id": "40c6fa9b",
   "metadata": {},
   "source": [
    "From the `describe` output, you can see that station CI.CLC failed the QA \n",
    "checks that are applied during the `process_streams` command. You can also \n",
    "see that it is because of a failure on the Z component. To investigate what \n",
    "caused the failure, we can look at the `failure` trace parameter"
   ]
  },
  {
   "cell_type": "code",
   "execution_count": 5,
   "id": "5fadd1f9",
   "metadata": {},
   "outputs": [
    {
     "name": "stdout",
     "output_type": "stream",
     "text": [
      "{'module': 'check_tail', 'reason': 'Velocity ratio is greater than 0.3'}\n"
     ]
    }
   ],
   "source": [
    "print(psc[0][2].getParameter('failure'))"
   ]
  },
  {
   "cell_type": "markdown",
   "id": "9404b94a",
   "metadata": {},
   "source": [
    "Note that the first index is to select the CI.CLC stream, and the second is to\n",
    "select the Z trace.\n",
    "\n",
    "The output shows that the trace failed in the `check_tail` module with the \n",
    "reason being that the tail velocity ratio is great than 0.3. This is a simple\n",
    "\"sanity\" check that is designed to avoid records with unphysical drifts. \n",
    "Although the record is probably still usable in this case, we will continue\n",
    "use the third stream (CI.CCC) for the rest of this tutorial.\n",
    "\n",
    "We compute the response spectral with the StationSummary class"
   ]
  },
  {
   "cell_type": "code",
   "execution_count": 6,
   "id": "3f2df7a3",
   "metadata": {},
   "outputs": [
    {
     "name": "stdout",
     "output_type": "stream",
     "text": [
      "                            Result\n",
      "IMT          IMC                  \n",
      "SA(0.030)    ROTD(50.0)  57.038426\n",
      "             H2          72.085069\n",
      "             H1          52.134084\n",
      "             Z           59.827959\n",
      "DURATION5-95 H2          11.380000\n",
      "...                            ...\n",
      "SA(0.300)    Z           44.512070\n",
      "SA(1.500)    ROTD(50.0)  41.326347\n",
      "             H2          20.692151\n",
      "             H1          53.563236\n",
      "             Z            8.408986\n",
      "\n",
      "[101 rows x 1 columns]\n"
     ]
    }
   ],
   "source": [
    "# Compute response spectra for one of the processed streams\n",
    "summary = StationSummary.from_config(psc[2], event=event, config=conf)\n",
    "print(summary.pgms)"
   ]
  },
  {
   "cell_type": "markdown",
   "id": "1e981ffa",
   "metadata": {},
   "source": [
    "The `pgms` attribute is a Pandas dataframe, indexed by the IMTs and IMCs. \n",
    "\n",
    "```{note} The \"pgm\" abbreviation used is this code was originally for \n",
    "\"peak ground motions\". But it now includes ground motion metrics that are\n",
    "not related to \"peaks\" in any way (such as duration). So \"pgm\" may\n",
    "be better, although more awkwardly, treated as an abbreviation for \n",
    "\"property of ground motion.\"\n",
    "```\n",
    "\n",
    "We can also get a dictionary that includes the response spectra for a specific\n",
    "IMC"
   ]
  },
  {
   "cell_type": "code",
   "execution_count": 7,
   "id": "fa9c8a70",
   "metadata": {},
   "outputs": [],
   "source": [
    "rotd_dict = summary.get_imc_dict('ROTD(50.0)')"
   ]
  },
  {
   "cell_type": "markdown",
   "id": "7802ff87",
   "metadata": {},
   "source": [
    "But a more convenient format for plotting is to get the spectral accelerations\n",
    "and oscillator periods as arrays"
   ]
  },
  {
   "cell_type": "code",
   "execution_count": 8,
   "id": "2c3a574f",
   "metadata": {},
   "outputs": [],
   "source": [
    "sa_arrays = summary.get_sa_arrays('ROTD(50.0)')\n",
    "period = sa_arrays['ROTD(50.0)']['period']\n",
    "sa = sa_arrays['ROTD(50.0)']['sa']\n",
    "\n",
    "# Note on units: OQ uses natural log of g, gmprocess uses %g\n",
    "sa_g = sa / 100.0"
   ]
  },
  {
   "cell_type": "markdown",
   "id": "467dc4b3",
   "metadata": {},
   "source": [
    "Now we will compute the response spectra from a GMPE"
   ]
  },
  {
   "cell_type": "code",
   "execution_count": 9,
   "id": "a273bca7",
   "metadata": {},
   "outputs": [],
   "source": [
    "# Prepare inputs for OQ GMPE\n",
    "gmpe = BooreEtAl2014()\n",
    "stddev_types = [StdDev.TOTAL]\n",
    "\n",
    "# Define rupture information\n",
    "inputs = base.RuptureContext()\n",
    "inputs.mag = rotd_dict['ROTD(50.0)']['EarthquakeMagnitude']\n",
    "inputs.rake = 90.0\n",
    "inputs.hypo_depth = rotd_dict['ROTD(50.0)']['EarthquakeDepth']\n",
    "inputs.ztor = 0.0\n",
    "inputs.rjb = np.array([5.0])\n",
    "inputs.vs30 = np.array([760.0])\n",
    "inputs.sids = np.array([0])\n",
    "\n",
    "# Evaluate (must loop over periods since OQ takes in IMT as scalar)\n",
    "BSSA14 = {\n",
    "    'lmean': np.array([]),\n",
    "    'lsd': np.array([])\n",
    "}\n",
    "for per in period:\n",
    "    lmean, lsd = gmpe.get_mean_and_stddevs(\n",
    "        inputs, inputs, inputs, imt.SA(per), stddev_types)\n",
    "    BSSA14['lmean'] = np.append(BSSA14['lmean'], lmean[0])\n",
    "    BSSA14['lsd'] = np.append(BSSA14['lsd'], lsd[0][0])"
   ]
  },
  {
   "cell_type": "markdown",
   "id": "8d2d1f08",
   "metadata": {},
   "source": [
    "Lastly, we construct the plot"
   ]
  },
  {
   "cell_type": "code",
   "execution_count": 10,
   "id": "9af7f651",
   "metadata": {},
   "outputs": [
    {
     "data": {
      "image/png": "[encoded data removed]",
      "text/plain": [
       "<Figure size 432x288 with 1 Axes>"
      ]
     },
     "metadata": {
      "filenames": {
       "image/png": "/Users/emthompson/src/python/groundmotion-processing/docs/jupyter_execute/contents/tutorials/response_spectra_19_0.png"
      },
      "needs_background": "light"
     },
     "output_type": "display_data"
    }
   ],
   "source": [
    "gmpe_mean = np.exp(BSSA14['lmean'])\n",
    "gmpe_upper = np.exp(BSSA14['lmean'] + BSSA14['lsd'])\n",
    "gmpe_lower = np.exp(BSSA14['lmean'] - BSSA14['lsd'])\n",
    "fig = plt.figure()\n",
    "ax = fig.add_axes([0.125, 0.125, 0.825, 0.825])\n",
    "ax.fill_between(period, gmpe_lower, gmpe_upper, fc='k', alpha=0.25)\n",
    "ax.loglog(period, gmpe_mean, color='k', lw=2, label='BSSA14')\n",
    "ax.loglog(period, sa_g, color=(0.0, 0.4, 0.8), lw=2, marker='o',\n",
    "          label=psc[2].id)\n",
    "ax.legend()\n",
    "ax.set_xlabel('Period (sec)')\n",
    "ax.set_ylabel('Spectral Acceleration (g)');"
   ]
  },
  {
   "cell_type": "markdown",
   "id": "9592d862",
   "metadata": {},
   "source": [
    "% Indices and tables\n",
    "\n",
    "% ==================\n",
    "\n",
    "% * :ref:`genindex`\n",
    "\n",
    "% * :ref:`modindex`\n",
    "\n",
    "% * :ref:`search`"
   ]
  }
 ],
 "metadata": {
  "jupytext": {
   "text_representation": {
    "extension": ".md",
    "format_name": "myst",
    "format_version": "0.8",
    "jupytext_version": "1.4.1"
   }
  },
  "kernelspec": {
   "display_name": "Python 3",
   "language": "python",
   "name": "python3"
  },
  "language_info": {
   "codemirror_mode": {
    "name": "ipython",
    "version": 3
   },
   "file_extension": ".py",
   "mimetype": "text/x-python",
   "name": "python",
   "nbconvert_exporter": "python",
   "pygments_lexer": "ipython3",
   "version": "3.8.12"
  },
  "source_map": [
   12,
   21,
   40,
   46,
   53,
   59,
   66,
   72,
   76,
   83,
   85,
   98,
   102,
   116,
   118,
   123,
   130,
   134,
   159,
   163,
   176
  ]
 },
 "nbformat": 4,
 "nbformat_minor": 5
}