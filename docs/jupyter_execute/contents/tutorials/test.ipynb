{
 "cells": [
  {
   "cell_type": "markdown",
   "id": "783fb667",
   "metadata": {},
   "source": [
    "# Title\n",
    "\n",
    "some text\n",
    "\n",
    "\n",
    "\\```{python echo=TRUE}\n",
    "import pandas as pd\n",
    "series = pd.Series({'A':1, 'B':3, 'C':2})\n",
    "pd.DataFrame({\"Columne A\": series})\n",
    "\\```"
   ]
  }
 ],
 "metadata": {
  "jupytext": {
   "text_representation": {
    "extension": ".md",
    "format_name": "myst",
    "format_version": "0.8",
    "jupytext_version": "1.4.1"
   }
  },
  "kernelspec": {
   "display_name": "Python 3",
   "language": "python",
   "name": "python3"
  },
  "language_info": {
   "codemirror_mode": {
    "name": "ipython",
    "version": 3
   },
   "file_extension": ".py",
   "mimetype": "text/x-python",
   "name": "python",
   "nbconvert_exporter": "python",
   "pygments_lexer": "ipython3",
   "version": "3.8.12"
  },
  "source_map": [
   12
  ]
 },
 "nbformat": 4,
 "nbformat_minor": 5
}