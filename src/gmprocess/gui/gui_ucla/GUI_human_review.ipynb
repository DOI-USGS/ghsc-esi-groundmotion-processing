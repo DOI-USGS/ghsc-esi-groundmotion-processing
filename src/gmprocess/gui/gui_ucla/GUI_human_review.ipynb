{
 "cells": [
  {
   "cell_type": "code",
   "execution_count": 1,
   "id": "893fe763",
   "metadata": {},
   "outputs": [],
   "source": [
    "%matplotlib widget\n",
    "import gmprocess.gui.gui_ucla.HumanReviewGUI as HRG\n",
    "GUI = HRG.HumanReviewGUI()"
   ]
  }
 ],
 "metadata": {
  "IMAGE_NAME": "taccsciapps/ds-nb-img:base-0.1.3",
  "UUID": "b10b61b0-984e-11ee-8eb8-86839c98a1b4",
  "kernelspec": {
   "display_name": "Python 3 (ipykernel)",
   "language": "python",
   "name": "python3"
  },
  "language_info": {
   "codemirror_mode": {
    "name": "ipython",
    "version": 3
   },
   "file_extension": ".py",
   "mimetype": "text/x-python",
   "name": "python",
   "nbconvert_exporter": "python",
   "pygments_lexer": "ipython3",
   "version": "3.9.10"
  }
 },
 "nbformat": 4,
 "nbformat_minor": 5
}
